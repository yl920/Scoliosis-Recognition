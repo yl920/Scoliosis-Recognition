{
 "cells": [
  {
   "cell_type": "code",
   "execution_count": 2,
   "metadata": {
    "collapsed": true,
    "ExecuteTime": {
     "end_time": "2023-08-15T02:10:35.717230800Z",
     "start_time": "2023-08-15T02:10:32.351763600Z"
    }
   },
   "outputs": [],
   "source": [
    "import torch\n",
    "import torch.nn as nn"
   ]
  },
  {
   "cell_type": "code",
   "execution_count": 3,
   "outputs": [],
   "source": [
    "# 输入的特征向量的维度是6\n",
    "# 有两层MLP 第一层的输出维度是4\n",
    "# 第二层的输出维度是2\n",
    "# 最终的输出维度是1\n",
    "class MyMLP(nn.Module):\n",
    "    def __init__(self):\n",
    "        super().__init__()\n",
    "        self.linear1 = nn.Linear(6,4)\n",
    "        self.activationFunction = nn.ReLU()\n",
    "        self.linear2 = nn.Linear(4,2)\n",
    "        self.linear3 = nn.Linear(2,1)\n",
    "        self.activation2 = nn.Softmax()\n",
    "    def forward(self,x):\n",
    "        y = self.linear1(x) #1 * 4\n",
    "        y = self.activationFunction(y)\n",
    "        y = self.linear2(y)\n",
    "        y = self.activationFunction(y)\n",
    "        y = self.linear3(y)\n",
    "        return y\n"
   ],
   "metadata": {
    "collapsed": false,
    "pycharm": {
     "name": "#%%\n"
    },
    "ExecuteTime": {
     "end_time": "2023-08-15T02:10:41.839407Z",
     "start_time": "2023-08-15T02:10:41.823445Z"
    }
   }
  },
  {
   "cell_type": "code",
   "execution_count": 4,
   "outputs": [
    {
     "name": "stdout",
     "output_type": "stream",
     "text": [
      "torch.Size([1, 1]) tensor([[0.2972]], grad_fn=<AddmmBackward0>)\n"
     ]
    }
   ],
   "source": [
    "x = torch.randn(1,6) #生成一个模拟的输入 pytorch tensor\n",
    "model = MyMLP()      #初始化模型，创建了一个实例\n",
    "y = model(x)         # 输入到输出\n",
    "print(y.shape,y)"
   ],
   "metadata": {
    "collapsed": false,
    "pycharm": {
     "name": "#%%\n"
    },
    "ExecuteTime": {
     "end_time": "2023-08-15T02:10:47.045997200Z",
     "start_time": "2023-08-15T02:10:46.985235800Z"
    }
   }
  },
  {
   "cell_type": "code",
   "execution_count": 8,
   "outputs": [],
   "source": [
    "class MyMLP(nn.Module):\n",
    "    def __init__(self):\n",
    "        super().__init__()\n",
    "        self.mlp = nn.Sequential(\n",
    "            nn.Linear(6,4),\n",
    "            nn.ReLU(),\n",
    "            nn.Linear(4,2),\n",
    "            nn.ReLU(),\n",
    "            nn.Linear(2,1),\n",
    "        )\n",
    "    def forward(self,x):\n",
    "        y = self.mlp(x)\n",
    "        return y"
   ],
   "metadata": {
    "collapsed": false,
    "pycharm": {
     "name": "#%%\n"
    },
    "ExecuteTime": {
     "end_time": "2023-08-14T08:53:10.593664400Z",
     "start_time": "2023-08-14T08:53:10.564649Z"
    }
   }
  },
  {
   "cell_type": "code",
   "execution_count": 13,
   "outputs": [
    {
     "name": "stdout",
     "output_type": "stream",
     "text": [
      "torch.Size([1, 1]) tensor([[0.3172]], grad_fn=<AddmmBackward0>)\n"
     ]
    }
   ],
   "source": [
    "x = torch.randn(1,6) #生成一个模拟的输入 pytorch tensor\n",
    "model = MyMLP()      #初始化模型，创建了一个实例\n",
    "y = model(x)         # 输入到输出\n",
    "print(y.shape,y)"
   ],
   "metadata": {
    "collapsed": false,
    "pycharm": {
     "name": "#%%\n"
    },
    "ExecuteTime": {
     "end_time": "2023-08-14T08:53:32.051429600Z",
     "start_time": "2023-08-14T08:53:32.024425Z"
    }
   }
  },
  {
   "cell_type": "code",
   "execution_count": 10,
   "outputs": [],
   "source": [
    "x = torch.randn(10,3,3,3)"
   ],
   "metadata": {
    "collapsed": false,
    "pycharm": {
     "name": "#%%\n"
    },
    "ExecuteTime": {
     "end_time": "2023-08-14T08:53:10.625656900Z",
     "start_time": "2023-08-14T08:53:10.597650900Z"
    }
   }
  },
  {
   "cell_type": "code",
   "execution_count": 11,
   "outputs": [
    {
     "ename": "SyntaxError",
     "evalue": "invalid syntax (1028874312.py, line 6)",
     "output_type": "error",
     "traceback": [
      "\u001B[1;36m  Cell \u001B[1;32mIn[11], line 6\u001B[1;36m\u001B[0m\n\u001B[1;33m    tensor.to(dtype=, device=)  #points_cpu = points_gpu.to(device='cpu') 数据tensor拷贝到device GPU上\u001B[0m\n\u001B[1;37m                    ^\u001B[0m\n\u001B[1;31mSyntaxError\u001B[0m\u001B[1;31m:\u001B[0m invalid syntax\n"
     ]
    }
   ],
   "source": [
    "torch.cat() #进行拼接\n",
    "torch.transpose()#指明哪两个维度需要exchange调换\n",
    "x.contiguous() #连续化  改变了多维数组在内存中的存储顺序，以便配合view方法使用\n",
    "x.view() #view()之后的张量与原张量共享内存，并且是连续的,重新定义了访问张量的规则，使得取出的张量按照我们希望的形状展现，没改变形状\n",
    "x.reshape() #与原数据量相同，不改变原tensor\n",
    "tensor.to(dtype=, device=)  #points_cpu = points_gpu.to(device='cpu') 数据tensor拷贝到device GPU上"
   ],
   "metadata": {
    "collapsed": false,
    "pycharm": {
     "name": "#%%\n"
    },
    "ExecuteTime": {
     "end_time": "2023-08-14T08:53:10.627657200Z",
     "start_time": "2023-08-14T08:53:10.613650200Z"
    }
   }
  },
  {
   "cell_type": "code",
   "execution_count": null,
   "outputs": [],
   "source": [
    "torch.randn(8, 3, 244, 244)\n",
    "#[batch, channel, height, width]，表示batch_size=8， 3通道（灰度图像为1），图片尺寸：224x224  "
   ],
   "metadata": {
    "collapsed": false,
    "ExecuteTime": {
     "end_time": "2023-08-14T08:53:10.640186400Z",
     "start_time": "2023-08-14T08:53:10.627657200Z"
    }
   }
  },
  {
   "cell_type": "code",
   "execution_count": 14,
   "outputs": [
    {
     "name": "stdout",
     "output_type": "stream",
     "text": [
      "tensor([[[-1.4513,  0.8483],\n",
      "         [ 0.1963, -0.4604],\n",
      "         [ 0.0674,  0.9368]],\n",
      "\n",
      "        [[-0.8874,  2.5921],\n",
      "         [ 1.1785, -1.1816],\n",
      "         [ 0.1961,  1.5274]],\n",
      "\n",
      "        [[-0.6934, -1.4621],\n",
      "         [ 0.3626,  0.0578],\n",
      "         [-1.2352, -0.0527]],\n",
      "\n",
      "        [[ 0.7771, -0.2380],\n",
      "         [-0.6919, -0.7696],\n",
      "         [ 0.3134, -1.2343]]]) tensor([[-0.4497, -0.5642,  0.3265, -0.1272,  0.6068,  0.2357],\n",
      "        [-0.4497, -0.5642,  0.3265, -0.1272,  0.6068,  0.2357]]) tensor([[-0.4497, -0.5642,  0.3265, -0.1272,  0.6068,  0.2357, -0.4497, -0.5642,\n",
      "          0.3265, -0.1272,  0.6068,  0.2357]])\n"
     ]
    }
   ],
   "source": [
    "a = torch.randn(4,3,2)\n",
    "b=torch.cat((x,x),0) \n",
    "c=torch.cat((x,x),1)\n",
    "print(a,b,c)\n",
    "#dim=0,按行拼接\n",
    "#dim=1,按列拼接\n",
    "#dim=2,按第三维度深度进行拼接"
   ],
   "metadata": {
    "collapsed": false,
    "ExecuteTime": {
     "end_time": "2023-08-14T08:53:36.662968500Z",
     "start_time": "2023-08-14T08:53:36.613372400Z"
    }
   }
  },
  {
   "cell_type": "code",
   "execution_count": 15,
   "outputs": [
    {
     "name": "stdout",
     "output_type": "stream",
     "text": [
      "tensor([[2, 1, 3],\n",
      "        [4, 5, 9]])\n",
      "tensor([2, 1, 3, 4, 5, 9])\n"
     ]
    }
   ],
   "source": [
    "t = torch.tensor([[2, 1, 3], [4, 5, 9]])\n",
    "print(t)\n",
    "print(t.view(-1))"
   ],
   "metadata": {
    "collapsed": false,
    "ExecuteTime": {
     "end_time": "2023-08-14T08:53:44.093000300Z",
     "start_time": "2023-08-14T08:53:44.077999Z"
    }
   }
  }
 ],
 "metadata": {
  "kernelspec": {
   "display_name": "Python 3",
   "language": "python",
   "name": "python3"
  },
  "language_info": {
   "codemirror_mode": {
    "name": "ipython",
    "version": 2
   },
   "file_extension": ".py",
   "mimetype": "text/x-python",
   "name": "python",
   "nbconvert_exporter": "python",
   "pygments_lexer": "ipython2",
   "version": "2.7.6"
  }
 },
 "nbformat": 4,
 "nbformat_minor": 0
}
