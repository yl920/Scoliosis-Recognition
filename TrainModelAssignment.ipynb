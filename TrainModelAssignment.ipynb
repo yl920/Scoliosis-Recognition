{
 "cells": [
  {
   "cell_type": "code",
   "execution_count": 1,
   "outputs": [],
   "source": [
    "import torch\n",
    "import torch.nn as nn\n",
    "import torch.optim as optim\n",
    "from torch.utils.data import DataLoader,Dataset\n",
    "from tqdm import tqdm\n",
    "import cv2\n",
    "import numpy as np\n",
    "import pandas as pd\n",
    "from torchvision import transforms"
   ],
   "metadata": {
    "collapsed": false,
    "ExecuteTime": {
     "end_time": "2023-08-30T04:28:26.898925800Z",
     "start_time": "2023-08-30T04:28:25.362019Z"
    }
   },
   "id": "ed6e48e1bbbf9b4d"
  },
  {
   "cell_type": "code",
   "execution_count": 2,
   "outputs": [],
   "source": [
    "#定义输入为 3*64*64 的模型\n",
    "class myNet(nn.Module):\n",
    "    def __init__(self):\n",
    "        super().__init__()\n",
    "        self.cnnPart = nn.Sequential(\n",
    "            nn.Conv2d(in_channels=3,out_channels=16,kernel_size=3,stride=2,dilation=1), #31*31\n",
    "            nn.MaxPool2d(kernel_size=3,stride=2), #15*15\n",
    "            nn.ReLU(),\n",
    "\n",
    "            nn.Conv2d(in_channels=16,out_channels=32,kernel_size=15),\n",
    "        )\n",
    "        self.fcPart = nn.Sequential(\n",
    "            nn.Linear(32,1), #由于是二分类任务，所以输出维度为1\n",
    "            nn.Sigmoid()  #输出值在0-1之间\n",
    "        )\n",
    "    def forward(self,x):\n",
    "        batchsize = x.shape[0]\n",
    "        out = self.cnnPart(x)\n",
    "        out = out.view(batchsize,-1)\n",
    "        out = self.fcPart(out)\n",
    "        return out"
   ],
   "metadata": {
    "collapsed": false,
    "ExecuteTime": {
     "end_time": "2023-08-30T04:28:26.917459200Z",
     "start_time": "2023-08-30T04:28:26.897998200Z"
    }
   },
   "id": "f4f3d31ad662df4a"
  },
  {
   "cell_type": "code",
   "execution_count": 3,
   "outputs": [],
   "source": [
    "#定义数据集\n",
    "class myDataset(Dataset):\n",
    "    def __init__(self, args, type, number): #用type定义选择的test/train文件分类 #number定义文件内label=0的数量（1-58=0，>58=1)\n",
    "        super().__init__()\n",
    "        self.number = number\n",
    "        self.type = type\n",
    "        self.dataAmount = args\n",
    "        self.data = torch.randn(self.dataAmount, 3,64,64)\n",
    "        self.label = torch.randint(low=0,high=3,size=(self.dataAmount,1))\n",
    "    def __len__(self):\n",
    "        return self.dataAmount\n",
    "    def __getitem__(self, item): \n",
    "        img = cv2.imread(f\"C:/Engineering/dataset/{self.type}/{item+1}.jpg\") #根据train/test type 选择路径 #item starts from 0, so when leading to actual image, number should be item+1\n",
    "        array = cv2.resize(img,(64,64)) #cv2 格式\n",
    "        transform = transforms.ToTensor() #用transform to tensor 将cv2的gbr通道改为rgb通道\n",
    "        data= transform(array) \n",
    "        \n",
    "        if item < self.number:   #label的赋值，由item决定\n",
    "            label = torch.tensor(0)\n",
    "        else:\n",
    "            label = torch.tensor(1)\n",
    "        return data, label\n",
    "    \n",
    "trainSet = myDataset(168, \"train\", 58) #根据myDataset init 定义的参数\n",
    "testSet = myDataset(41, \"test\", 14)\n",
    "\n",
    "trainLoader = DataLoader(trainSet, batch_size=32, shuffle=True)\n",
    "testLoader = DataLoader(testSet, batch_size=16, shuffle=False)"
   ],
   "metadata": {
    "collapsed": false,
    "ExecuteTime": {
     "end_time": "2023-08-30T04:28:26.959360200Z",
     "start_time": "2023-08-30T04:28:26.913480900Z"
    }
   },
   "id": "d06fe5ae518d5006"
  },
  {
   "cell_type": "code",
   "execution_count": 4,
   "outputs": [
    {
     "name": "stdout",
     "output_type": "stream",
     "text": [
      "torch.Size([32, 3, 64, 64]) torch.Size([32])\n"
     ]
    }
   ],
   "source": [
    "#test#\n",
    "for data,label in trainLoader: #测试trainloader输出\n",
    "    print(data.shape,label.shape)\n",
    "    break"
   ],
   "metadata": {
    "collapsed": false,
    "ExecuteTime": {
     "end_time": "2023-08-30T04:28:27.054405200Z",
     "start_time": "2023-08-30T04:28:26.946362100Z"
    }
   },
   "id": "951c83a8dd541690"
  },
  {
   "cell_type": "code",
   "execution_count": 5,
   "outputs": [],
   "source": [
    "#model training\n",
    "device = 'cuda:0' #在GPU运行，要注意各项（modeL，dataset，dataloader)都储存于同一位置 #当出现CUDA Error时，重启pycharm\n",
    "model = myNet()\n",
    "model.to(device=device)\n",
    "\n",
    "lossfun = nn.BCELoss() #二分类任务--BCELoss,输出维度为1\n",
    "\n",
    "optimizer = optim.Adam(model.parameters(), lr=0.0001) #优化func"
   ],
   "metadata": {
    "collapsed": false,
    "ExecuteTime": {
     "end_time": "2023-08-30T04:28:28.354486900Z",
     "start_time": "2023-08-30T04:28:26.996310600Z"
    }
   },
   "id": "5f4d04ac6b8e131b"
  },
  {
   "cell_type": "code",
   "execution_count": null,
   "outputs": [],
   "source": [
    "#training iteration\n",
    "Epoch = 100 #20个大循环训练\n",
    "loss_data = []\n",
    "epoch_data = []\n",
    "for e in tqdm(range(1, Epoch+1)):\n",
    "    model.train() #start training\n",
    "    for data,label in trainLoader: #iteration in test set for 1 epoch\n",
    "        data = data.to(device = device)\n",
    "        label = label.to(dtype = torch.float, device = device) #below when compare label&predict, predict is value between 0-1, so the data type of label must also be float, same as dtype of predict\n",
    "        label = label.view(-1, 1) #增加维度，与输出(32, 1)保持一致\n",
    "        output = model(data)\n",
    "        loss = lossfun(output,label)\n",
    "    \n",
    "        #固定写法\n",
    "        optimizer.zero_grad()\n",
    "        loss.backward()\n",
    "        optimizer.step()       \n",
    "        \n",
    "        loss = loss.detach()\n",
    "        loss = loss.cpu().numpy()\n",
    "        loss_data.append(loss)\n",
    "    #test the testdata    \n",
    "    #每大循环计算一次准确率\n",
    "    model.eval() #start testing\n",
    "    correct = 0\n",
    "    iteration = 0\n",
    "    for data,label in testLoader:\n",
    "        '''Prediction and accuracy'''\n",
    "        data = data.to(device = device)  #testLoader, trainLoader 都要在gpu\n",
    "        label = label.to(dtype = torch.float, device = device)\n",
    "        label = label.view(-1,1)\n",
    "        \n",
    "        predict = model(data)\n",
    "        predict = predict.detach() #when compare with label, label has no gradient, remove gradient of gradient as a tensor to keep them consistent\n",
    "        predict = predict>0.5 #when predict >0.5, predict =1. when predict<0.5, predict =0\n",
    "        result = (predict==label) #output:tensor of [True] and [False]s after compare the elements individually\n",
    "        correct += torch.sum(result) #add up the tensor to give 1/0 and accumulate(+=) to work our correctness \n",
    "        #print(correct)\n",
    "        # \n",
    "        # accuracy = float(correct *100)/41\n",
    "        # iter_data.append(accuracy)\n",
    "        # print(f\"accuracy:{accuracy}%\")\n",
    "        \n",
    "    accuracy = float(correct *100)/41  #divided by data amount for each epoch  \n",
    "    epoch_data.append(accuracy)\n",
    "    print(f'model training finished, Epoch:{Epoch}, ' \n",
    "          f'testSet final accuracy:{accuracy}%'\n",
    "          )\n",
    "\n",
    "#print(loss_data, epoch_data)"
   ],
   "metadata": {
    "collapsed": false
   },
   "id": "842dcf10083ef59a"
  },
  {
   "cell_type": "code",
   "execution_count": 7,
   "outputs": [],
   "source": [
    "#create and write in excel\n",
    "loss_list = pd.DataFrame({'Loss in each iteration': loss_data })\n",
    "epoch_list = pd.DataFrame({'Accuracy in each epoch': epoch_data })\n",
    "with pd.ExcelWriter(\"E:\\Internship\\Model_data.xlsx\") as writer:\n",
    "    loss_list.to_excel(writer, sheet_name = 'Loss', index = False)\n",
    "    epoch_list.to_excel(writer, sheet_name = 'Accuracy', index = False)\n"
   ],
   "metadata": {
    "collapsed": false,
    "ExecuteTime": {
     "end_time": "2023-08-30T04:28:46.730365800Z",
     "start_time": "2023-08-30T04:28:46.342733600Z"
    }
   },
   "id": "6c10a9b14b3e044a"
  },
  {
   "cell_type": "code",
   "execution_count": null,
   "outputs": [],
   "source": [
    "#test#\n",
    "predict = torch.randn(16,1)\n",
    "label = torch.randn(16,1)\n",
    "result = (predict>0.5)\n",
    "print(result==label)"
   ],
   "metadata": {
    "collapsed": false
   },
   "id": "1b3d70ccd6a7a441"
  },
  {
   "cell_type": "code",
   "execution_count": 9,
   "outputs": [],
   "source": [
    "#test working of reading img\n",
    "image = cv2.imread('C:/Engineering/dataset/train/1.jpg')\n",
    " \n",
    "if image is not None:\n",
    "    cv2.imshow('Image', image)\n",
    "    cv2.waitKey(0)\n",
    "    cv2.destroyAllWindows()\n",
    "else:\n",
    "    print('图像读取失败')\n"
   ],
   "metadata": {
    "collapsed": false,
    "ExecuteTime": {
     "end_time": "2023-08-30T04:28:49.032066700Z",
     "start_time": "2023-08-30T04:28:46.737366200Z"
    }
   },
   "id": "8eca85519f01fb74"
  },
  {
   "cell_type": "code",
   "execution_count": null,
   "outputs": [],
   "source": [
    "#test cv2#\n",
    "for item in range(41):\n",
    "    img = cv2.imread(\"C:/Engineering/dataset/test/{}.jpg\".format(item+1))\n",
    "    #array = np.array([img])\n",
    "    array = cv2.resize(img,(64,64))\n",
    "    print(array)"
   ],
   "metadata": {
    "collapsed": false
   },
   "id": "dc58e6222b5412fa"
  },
  {
   "cell_type": "code",
   "execution_count": null,
   "outputs": [],
   "source": [],
   "metadata": {
    "collapsed": false
   },
   "id": "8dd5523970d475e8"
  }
 ],
 "metadata": {
  "kernelspec": {
   "name": "yuan",
   "language": "python",
   "display_name": "yuan"
  },
  "language_info": {
   "codemirror_mode": {
    "name": "ipython",
    "version": 2
   },
   "file_extension": ".py",
   "mimetype": "text/x-python",
   "name": "python",
   "nbconvert_exporter": "python",
   "pygments_lexer": "ipython2",
   "version": "2.7.6"
  }
 },
 "nbformat": 4,
 "nbformat_minor": 5
}
